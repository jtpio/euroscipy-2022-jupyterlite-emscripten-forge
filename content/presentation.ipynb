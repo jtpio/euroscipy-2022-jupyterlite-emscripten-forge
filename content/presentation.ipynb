{
 "cells": [
  {
   "cell_type": "markdown",
   "metadata": {},
   "source": [
    "<br><br><br><br><br><br><br><br><br><br><br><br><br><br><br><br><br><br><br><br><br><br><br><br><br><br><br><br><br><br><br><br><br><br><br><br>"
   ]
  },
  {
   "cell_type": "markdown",
   "metadata": {
    "tags": []
   },
   "source": [
    "<p style=\"text-align: center\">\n",
    "    <img src=\"https://user-images.githubusercontent.com/591645/138829924-ea536fd4-2352-4214-8691-a80cd87cef2c.png\">\n",
    "</p>\n",
    "<h2 style=\"text-align: center\">Interactive Data Science in the browser with JupyterLite and Emscripten Forge 💡 🐍</h2>\n",
    "<h2 style=\"text-align: center\">EuroScipy 2022 - 2022-09-01</h2>\n",
    "<h3 style=\"text-align: center\"><a href=\"https://github.com/jupyterlite/jupyterlite\">https://github.com/jupyterlite/jupyterlite</a></h3>\n",
    "\n",
    "<h4 style=\"text-align: center\">Thorsten Beier - Martin Renou - Jeremy Tuloup</h4>"
   ]
  },
  {
   "cell_type": "markdown",
   "metadata": {},
   "source": [
    "<br><br><br><br><br><br><br><br><br><br><br><br><br><br><br><br><br><br><br><br><br><br><br><br><br><br><br><br><br><br><br><br><br><br><br><br>"
   ]
  },
  {
   "cell_type": "markdown",
   "metadata": {},
   "source": [
    "<p style=\"text-align: center;\">\n",
    "    <img src=\"https://quantstack.net/img/logo.svg\"/>\n",
    "</p>\n",
    "    \n",
    "![image](https://user-images.githubusercontent.com/591645/162733593-43aaf6ae-df8d-465e-9986-bacbe89fee1c.png)"
   ]
  },
  {
   "cell_type": "markdown",
   "metadata": {},
   "source": [
    "<br><br><br><br><br><br><br><br><br><br><br><br><br><br><br><br><br><br><br><br><br><br><br><br><br><br><br><br><br><br><br><br><br><br><br><br>"
   ]
  },
  {
   "cell_type": "markdown",
   "metadata": {},
   "source": [
    "# How is JupyterLite different compared to normal Jupyter? 🤔"
   ]
  },
  {
   "cell_type": "code",
   "execution_count": null,
   "metadata": {},
   "outputs": [],
   "source": [
    "print('Hello World!')"
   ]
  },
  {
   "cell_type": "code",
   "execution_count": null,
   "metadata": {},
   "outputs": [],
   "source": [
    "1 + 1"
   ]
  },
  {
   "cell_type": "code",
   "execution_count": null,
   "metadata": {},
   "outputs": [],
   "source": [
    "import this"
   ]
  },
  {
   "cell_type": "code",
   "execution_count": null,
   "metadata": {},
   "outputs": [],
   "source": [
    "import sys\n",
    "print('boom', file=sys.stderr)"
   ]
  },
  {
   "cell_type": "markdown",
   "metadata": {},
   "source": [
    "<br><br><br><br><br><br><br><br><br><br><br><br><br><br><br><br><br><br><br><br><br><br><br><br><br><br><br><br><br><br><br><br><br><br><br><br>"
   ]
  },
  {
   "cell_type": "markdown",
   "metadata": {},
   "source": [
    "## Boots in seconds\n",
    "\n",
    "Useful to quickly try something out.\n",
    "\n",
    "This presentation is deployed on ReadTheDocs: https://euroscipy-2022-jupyterlite-emscripten-forge.readthedocs.io\n",
    "\n",
    "<p style=\"text-align: center\">\n",
    "    <img src=\"https://user-images.githubusercontent.com/591645/120649478-18258400-c47d-11eb-80e5-185e52ff2702.gif\">\n",
    "</p>"
   ]
  },
  {
   "cell_type": "markdown",
   "metadata": {},
   "source": [
    "<br><br><br><br><br><br><br><br><br><br><br><br><br><br><br><br><br><br><br><br><br><br><br><br><br><br><br><br><br><br><br><br><br><br><br><br>"
   ]
  },
  {
   "cell_type": "markdown",
   "metadata": {},
   "source": [
    "# The `jupyterlite` CLI is a **Static Site Generator** (SSG)\n",
    "\n",
    "![image](https://user-images.githubusercontent.com/591645/162620288-b3d67ee3-4da2-46d0-ad47-a1713f286cd8.png)\n",
    "\n"
   ]
  },
  {
   "cell_type": "markdown",
   "metadata": {},
   "source": [
    "<br><br><br><br><br><br><br><br><br><br><br><br><br><br><br><br><br><br><br><br><br><br><br><br><br><br><br><br><br><br><br><br><br><br><br><br>"
   ]
  },
  {
   "cell_type": "markdown",
   "metadata": {},
   "source": [
    "# Create your own in minutes! ⏲️\n",
    "\n",
    "## The JupyterLite Demo repo: https://github.com/jupyterlite/demo\n",
    "\n",
    "![](https://user-images.githubusercontent.com/21197331/125816904-5768008a-77de-4cb3-8013-f3999b135c02.gif)"
   ]
  },
  {
   "cell_type": "markdown",
   "metadata": {},
   "source": [
    "<br><br><br><br><br><br><br><br><br><br><br><br><br><br><br><br><br><br><br><br><br><br><br><br><br><br><br><br><br><br><br><br><br><br><br><br>"
   ]
  },
  {
   "cell_type": "markdown",
   "metadata": {},
   "source": [
    "# Lightweight Jupyter Frontend running in the browser\n",
    "\n",
    "<img src=\"https://raw.githubusercontent.com/jupyterlite/jupyterlite/main/docs/_static/badge-launch.svg\" width=512 />\n",
    "\n",
    "### ✅ no server\n",
    "\n",
    "### ✅ no command line\n",
    "\n",
    "### ✅ no need to install Python and other packages locally"
   ]
  },
  {
   "cell_type": "markdown",
   "metadata": {},
   "source": [
    "<br><br><br><br><br><br><br><br><br><br><br><br><br><br><br><br><br><br><br><br><br><br><br><br><br><br><br><br><br><br><br><br><br><br><br><br>"
   ]
  },
  {
   "cell_type": "markdown",
   "metadata": {},
   "source": [
    "# Easy to deploy\n",
    "\n",
    "### Documentation: https://jupyterlite.readthedocs.io/en/latest/deploying.html\n",
    "\n",
    "### Served via well-cacheable, static HTTP(S), locally or on most static web hosts\n",
    "\n",
    "## Examples\n",
    "\n",
    "### - https://jupyterlite.rtfd.io/en/latest/try/lab (Read The Docs), from https://github.com/jupyterlite/jupyterlite\n",
    "### - https://jupyterlite.github.io/demo (GitHub Pages), from https://github.com/jupyterlite/demo\n",
    "\n",
    "<img width=256 src=\"https://user-images.githubusercontent.com/591645/120675034-00f29080-c495-11eb-928c-26bb94e8eb68.png\">\n",
    "\n",
    "<img width=256 src=\"https://user-images.githubusercontent.com/591645/120676545-6dba5a80-c496-11eb-9b2b-604e92c3429b.png\">\n",
    "\n",
    "<img width=256 src=\"https://user-images.githubusercontent.com/591645/120675516-6f375300-c495-11eb-819c-d6f1fb3cb0f1.png\">\n",
    "\n",
    "<img width=256 src=\"https://user-images.githubusercontent.com/591645/120676108-03a1b580-c496-11eb-8990-ed30c7861376.png\">\n",
    "\n",
    "<img width=256 src=\"https://user-images.githubusercontent.com/591645/120676313-2df37300-c496-11eb-8639-25e2fc606850.png\">\n",
    "\n",
    "And more: Netlify, nginx, Heroku..."
   ]
  },
  {
   "cell_type": "markdown",
   "metadata": {},
   "source": [
    "<br><br><br><br><br><br><br><br><br><br><br><br><br><br><br><br><br><br><br><br><br><br><br><br><br><br><br><br><br><br><br><br><br><br><br><br>"
   ]
  },
  {
   "cell_type": "markdown",
   "metadata": {},
   "source": [
    "<p style=\"text-align: center\">\n",
    "    <img src=\"https://user-images.githubusercontent.com/591645/162559340-bf7e738a-7195-419e-9ae1-e10d9ea6783e.png\" width=\"40%\">\n",
    "</p>"
   ]
  },
  {
   "cell_type": "markdown",
   "metadata": {},
   "source": [
    "<br><br><br><br><br><br><br><br><br><br><br><br><br><br><br><br><br><br><br><br><br><br><br><br><br><br><br><br><br><br><br><br><br><br><br><br>"
   ]
  },
  {
   "cell_type": "markdown",
   "metadata": {},
   "source": [
    "# JupyterLab and Jupyter Notebook v7\n",
    "\n",
    "- Support for saving settings for JupyterLab core and federated extensions\n",
    "- Session and kernel management to have multiple kernels running on the page at the same time\n",
    "- Support for [Code Consoles](https://jupyterlab.readthedocs.io/en/stable/user/code_console.html)\n",
    "- Additional display languages like French and Simplified Chinese\n",
    "- Built-in JupyterLab Themes and third-party (prebuilt) themes"
   ]
  },
  {
   "cell_type": "markdown",
   "metadata": {},
   "source": [
    "<br><br><br><br><br><br><br><br><br><br><br><br><br><br><br><br><br><br><br><br><br><br><br><br><br><br><br><br><br><br><br><br><br><br><br><br>"
   ]
  },
  {
   "cell_type": "markdown",
   "metadata": {},
   "source": [
    "# Standing on the shoulders of giants 💁‍♂️\n",
    "\n",
    "## ✳️ Built from the ground-up using JupyterLab components and extensions\n",
    "\n",
    "## ✳️ The frontend communicates to the in-browser kernels via the Jupyter Protocol\n",
    "\n",
    "![lite-ecosystem](https://user-images.githubusercontent.com/591645/162748538-e44fea00-f727-4055-b795-8f5fc5c6b133.png)"
   ]
  },
  {
   "cell_type": "markdown",
   "metadata": {},
   "source": [
    "<br><br><br><br><br><br><br><br><br><br><br><br><br><br><br><br><br><br><br><br><br><br><br><br><br><br><br><br><br><br><br><br><br><br><br><br>"
   ]
  },
  {
   "cell_type": "markdown",
   "metadata": {},
   "source": [
    "<p style=\"text-align: center\">\n",
    "    <img src=\"https://user-images.githubusercontent.com/904752/139083996-d158fd29-c038-4370-8d39-20956c4510bf.png\" width=\"40%\">\n",
    "</p>\n",
    "\n",
    "# Xeus is C++ library for writing Jupyter kernels :\n",
    "\n",
    "## ➡️ [xeus-cling](https://github.com/QuantStack/xeus-cling)  ➡️ [xeus-python](https://github.com/jupyter-xeus/xeus-python) ➡️ [xeus-lua](https://github.com/jupyter-xeus/xeus-lua) ➡️ [xeus-sql](https://github.com/jupyter-xeus/xeus-sql)\n",
    "\n",
    "\n",
    "# Xeus powered kernels with WebAssembly \n",
    "\n",
    "## Blog post: https://blog.jupyter.org/xeus-lite-379e96bb199d\n",
    "<br>\n"
   ]
  },
  {
   "cell_type": "markdown",
   "metadata": {},
   "source": [
    "<br><br><br><br><br><br><br><br><br><br><br><br><br><br><br><br><br><br><br><br><br><br><br><br><br><br><br><br><br><br><br><br><br><br><br><br>\n"
   ]
  },
  {
   "cell_type": "markdown",
   "metadata": {},
   "source": [
    "# The Xeus Python Kernel\n"
   ]
  },
  {
   "cell_type": "code",
   "execution_count": null,
   "metadata": {},
   "outputs": [],
   "source": [
    "import sys\n",
    "sys.version"
   ]
  },
  {
   "cell_type": "code",
   "execution_count": null,
   "metadata": {},
   "outputs": [],
   "source": [
    "\"Hello\"\n",
    "\n",
    "def dummy_function():\n",
    "    import missing_module"
   ]
  },
  {
   "cell_type": "code",
   "execution_count": null,
   "metadata": {},
   "outputs": [],
   "source": [
    "dummy_function()"
   ]
  },
  {
   "cell_type": "code",
   "execution_count": null,
   "metadata": {},
   "outputs": [],
   "source": [
    "# code completion\n",
    "from sys import "
   ]
  },
  {
   "cell_type": "code",
   "execution_count": null,
   "metadata": {},
   "outputs": [],
   "source": [
    "print?"
   ]
  },
  {
   "cell_type": "code",
   "execution_count": null,
   "metadata": {},
   "outputs": [],
   "source": [
    "%history"
   ]
  },
  {
   "cell_type": "code",
   "execution_count": null,
   "metadata": {},
   "outputs": [],
   "source": [
    "import json\n",
    "import requests\n",
    "from IPython.display import JSON"
   ]
  },
  {
   "cell_type": "code",
   "execution_count": null,
   "metadata": {},
   "outputs": [],
   "source": [
    "res = requests.get('https://httpbin.org/get')\n",
    "obj = res.json()\n",
    "JSON(obj)"
   ]
  },
  {
   "cell_type": "markdown",
   "metadata": {},
   "source": [
    "<br><br><br><br><br><br><br><br><br><br><br><br><br><br><br><br><br><br><br><br><br><br><br><br><br><br><br><br><br><br><br><br><br><br><br><br>"
   ]
  },
  {
   "cell_type": "markdown",
   "metadata": {},
   "source": [
    "## Interactive visualizations"
   ]
  },
  {
   "cell_type": "markdown",
   "metadata": {},
   "source": [
    "## [Matplotlib](./pyolite/matplotlib.ipynb)"
   ]
  },
  {
   "cell_type": "code",
   "execution_count": null,
   "metadata": {},
   "outputs": [],
   "source": [
    "import numpy as np\n",
    "import matplotlib.pyplot as plt"
   ]
  },
  {
   "cell_type": "code",
   "execution_count": null,
   "metadata": {},
   "outputs": [],
   "source": [
    "x = np.linspace(0, 10, 1000)\n",
    "plt.plot(x, np.sin(x))\n",
    "plt.show()"
   ]
  },
  {
   "cell_type": "markdown",
   "metadata": {
    "tags": []
   },
   "source": [
    "## [Plotly](./pyolite/plotly.ipynb)"
   ]
  },
  {
   "cell_type": "code",
   "execution_count": null,
   "metadata": {},
   "outputs": [],
   "source": [
    "import plotly.graph_objects as go\n",
    "fig = go.Figure()\n",
    "fig.add_trace(go.Scatter(y=[2, 1, 4, 3]))\n",
    "fig.add_trace(go.Bar(y=[1, 4, 3, 2]))\n",
    "fig.update_layout(title = 'Hello Figure')\n",
    "fig.show()"
   ]
  },
  {
   "cell_type": "markdown",
   "metadata": {
    "tags": []
   },
   "source": [
    "## [Altair](./pyolite/altair.ipynb)"
   ]
  },
  {
   "cell_type": "code",
   "execution_count": null,
   "metadata": {},
   "outputs": [],
   "source": [
    "import altair as alt\n",
    "import pandas as pd\n",
    "\n",
    "source = pd.DataFrame({\n",
    "    'a': ['A', 'B', 'C', 'D', 'E', 'F', 'G', 'H', 'I'],\n",
    "    'b': [28, 55, 43, 91, 81, 53, 19, 87, 52]\n",
    "})\n",
    "\n",
    "alt.Chart(source).mark_bar().encode(\n",
    "    x='a',\n",
    "    y='b'\n",
    ")"
   ]
  },
  {
   "cell_type": "markdown",
   "metadata": {},
   "source": [
    "## GeoJSON"
   ]
  },
  {
   "cell_type": "code",
   "execution_count": null,
   "metadata": {},
   "outputs": [],
   "source": [
    "def GeoJSON(data):\n",
    "    bundle = {}\n",
    "    bundle['application/geo+json'] = data\n",
    "    bundle['text/plain'] = data\n",
    "    display(bundle, raw=True)\n",
    "    \n",
    "GeoJSON({\n",
    "  \"type\": \"Feature\",\n",
    "  \"geometry\": {\n",
    "    \"type\": \"Point\",\n",
    "    \"coordinates\": [14.429947073277393, 50.09658629462961]\n",
    "  },\n",
    "  \"properties\": {\n",
    "    \"name\": \"CreativeDock\"\n",
    "  }\n",
    "})"
   ]
  },
  {
   "cell_type": "markdown",
   "metadata": {},
   "source": [
    "<br><br><br><br><br><br><br><br><br><br><br><br><br><br><br><br><br><br><br><br><br><br><br><br><br><br><br><br><br><br><br><br><br><br><br><br>"
   ]
  },
  {
   "cell_type": "markdown",
   "metadata": {},
   "source": [
    "# Jupyter Widgets"
   ]
  },
  {
   "cell_type": "markdown",
   "metadata": {
    "tags": []
   },
   "source": [
    "## [ipywidgets](./pyolite/interactive-widgets.ipynb)"
   ]
  },
  {
   "cell_type": "code",
   "execution_count": null,
   "metadata": {},
   "outputs": [],
   "source": [
    "from ipywidgets import IntSlider\n",
    "\n",
    "slider = IntSlider()\n",
    "slider"
   ]
  },
  {
   "cell_type": "code",
   "execution_count": null,
   "metadata": {},
   "outputs": [],
   "source": [
    "slider"
   ]
  },
  {
   "cell_type": "code",
   "execution_count": null,
   "metadata": {},
   "outputs": [],
   "source": [
    "slider.value"
   ]
  },
  {
   "cell_type": "code",
   "execution_count": null,
   "metadata": {},
   "outputs": [],
   "source": [
    "from ipywidgets import IntText, link\n",
    "text = IntText()"
   ]
  },
  {
   "cell_type": "code",
   "execution_count": null,
   "metadata": {},
   "outputs": [],
   "source": [
    "text"
   ]
  },
  {
   "cell_type": "code",
   "execution_count": null,
   "metadata": {},
   "outputs": [],
   "source": [
    "link((slider, 'value'), (text, 'value'));"
   ]
  },
  {
   "cell_type": "code",
   "execution_count": null,
   "metadata": {},
   "outputs": [],
   "source": [
    "from bqplot import *\n",
    "\n",
    "import numpy as np\n",
    "import pandas as pd\n",
    "\n",
    "np.random.seed(0)\n",
    "\n",
    "n = 100\n",
    "\n",
    "x = list(range(n))\n",
    "y = np.cumsum(np.random.randn(n)) + 100.\n",
    "\n",
    "sc_x = LinearScale()\n",
    "sc_y = LinearScale()\n",
    "\n",
    "lines = Lines(\n",
    "    x=x, y=y,\n",
    "    scales={'x': sc_x, 'y': sc_y}\n",
    ")\n",
    "ax_x = Axis(scale=sc_x, label='Index')\n",
    "ax_y = Axis(scale=sc_y, orientation='vertical', label='lines')\n",
    "\n",
    "Figure(marks=[lines], axes=[ax_x, ax_y], title='Lines')\n"
   ]
  },
  {
   "cell_type": "code",
   "execution_count": null,
   "metadata": {},
   "outputs": [],
   "source": [
    "lines.colors = ['green']"
   ]
  },
  {
   "cell_type": "code",
   "execution_count": null,
   "metadata": {},
   "outputs": [],
   "source": [
    "lines.fill = 'bottom'"
   ]
  },
  {
   "cell_type": "code",
   "execution_count": null,
   "metadata": {},
   "outputs": [],
   "source": [
    "lines.marker = 'circle'"
   ]
  },
  {
   "cell_type": "code",
   "execution_count": null,
   "metadata": {},
   "outputs": [],
   "source": [
    "n = 100\n",
    "\n",
    "x = list(range(n))\n",
    "y = np.cumsum(np.random.randn(n))\n",
    "\n",
    "sc_x = LinearScale()\n",
    "sc_y = LinearScale()\n",
    "\n",
    "bars = Bars(\n",
    "    x=x, y=y,\n",
    "    scales={'x': sc_x, 'y': sc_y}\n",
    ")\n",
    "ax_x = Axis(scale=sc_x, label='Index')\n",
    "ax_y = Axis(scale=sc_y, orientation='vertical', label='bars')\n",
    "\n",
    "Figure(marks=[bars], axes=[ax_x, ax_y], title='Bars', animation_duration=1000)"
   ]
  },
  {
   "cell_type": "code",
   "execution_count": null,
   "metadata": {},
   "outputs": [],
   "source": [
    "bars.y = np.cumsum(np.random.randn(n))"
   ]
  },
  {
   "cell_type": "markdown",
   "metadata": {},
   "source": [
    "\n",
    "## [ipycanvas](./pyolite/ipycanvas.ipynb)"
   ]
  },
  {
   "cell_type": "code",
   "execution_count": null,
   "metadata": {},
   "outputs": [],
   "source": [
    "import asyncio\n",
    "\n",
    "import numpy as np\n",
    "\n",
    "from ipycanvas import RoughCanvas, hold_canvas"
   ]
  },
  {
   "cell_type": "code",
   "execution_count": null,
   "metadata": {},
   "outputs": [],
   "source": [
    "def life_step(x):\n",
    "    \"\"\"Game of life step\"\"\"\n",
    "    nbrs_count = sum(np.roll(np.roll(x, i, 0), j, 1)\n",
    "                     for i in (-1, 0, 1) for j in (-1, 0, 1)\n",
    "                     if (i != 0 or j != 0))\n",
    "    return (nbrs_count == 3) | (x & (nbrs_count == 2))"
   ]
  },
  {
   "cell_type": "code",
   "execution_count": null,
   "metadata": {},
   "outputs": [],
   "source": [
    "def draw(x, canvas, color='black'):\n",
    "    with hold_canvas(canvas):\n",
    "        canvas.clear()\n",
    "        canvas.fill_style = '#FFF0C9'\n",
    "        canvas.rough_fill_style = 'solid'\n",
    "        canvas.fill_rect(-10, -10, canvas.width + 10, canvas.height + 10)\n",
    "        canvas.rough_fill_style = 'cross-hatch'\n",
    "\n",
    "        canvas.fill_style = color\n",
    "        canvas.stroke_style = color\n",
    "\n",
    "        living_cells = np.where(x)\n",
    "        \n",
    "        rects_x = living_cells[1] * n_pixels\n",
    "        rects_y = living_cells[0] * n_pixels\n",
    "\n",
    "        canvas.fill_rects(rects_x, rects_y, n_pixels)\n",
    "        canvas.stroke_rects(rects_x, rects_y, n_pixels)"
   ]
  },
  {
   "cell_type": "code",
   "execution_count": null,
   "metadata": {},
   "outputs": [],
   "source": [
    "glider_gun =\\\n",
    "[[0,0,0,0,0,0,0,0,0,0,0,0,0,0,0,0,0,0,0,0,0,0,0,0,1,0,0,0,0,0,0,0,0,0,0,0],\n",
    " [0,0,0,0,0,0,0,0,0,0,0,0,0,0,0,0,0,0,0,0,0,0,1,0,1,0,0,0,0,0,0,0,0,0,0,0],\n",
    " [0,0,0,0,0,0,0,0,0,0,0,0,1,1,0,0,0,0,0,0,1,1,0,0,0,0,0,0,0,0,0,0,0,0,1,1],\n",
    " [0,0,0,0,0,0,0,0,0,0,0,1,0,0,0,1,0,0,0,0,1,1,0,0,0,0,0,0,0,0,0,0,0,0,1,1],\n",
    " [1,1,0,0,0,0,0,0,0,0,1,0,0,0,0,0,1,0,0,0,1,1,0,0,0,0,0,0,0,0,0,0,0,0,0,0],\n",
    " [1,1,0,0,0,0,0,0,0,0,1,0,0,0,1,0,1,1,0,0,0,0,1,0,1,0,0,0,0,0,0,0,0,0,0,0],\n",
    " [0,0,0,0,0,0,0,0,0,0,1,0,0,0,0,0,1,0,0,0,0,0,0,0,1,0,0,0,0,0,0,0,0,0,0,0],\n",
    " [0,0,0,0,0,0,0,0,0,0,0,1,0,0,0,1,0,0,0,0,0,0,0,0,0,0,0,0,0,0,0,0,0,0,0,0],\n",
    " [0,0,0,0,0,0,0,0,0,0,0,0,1,1,0,0,0,0,0,0,0,0,0,0,0,0,0,0,0,0,0,0,0,0,0,0]]\n",
    "\n",
    "x = np.zeros((50, 70), dtype=bool)\n",
    "x[1:10,1:37] = glider_gun"
   ]
  },
  {
   "cell_type": "code",
   "execution_count": null,
   "metadata": {},
   "outputs": [],
   "source": [
    "n_pixels = 15\n",
    "\n",
    "canvas = RoughCanvas(width=x.shape[1]*n_pixels, height=x.shape[0]*n_pixels)\n",
    "canvas.fill_style = '#FFF0C9'\n",
    "canvas.rough_fill_style = 'solid'\n",
    "canvas.fill_rect(0, 0, canvas.width, canvas.height)\n",
    "\n",
    "canvas"
   ]
  },
  {
   "cell_type": "code",
   "execution_count": null,
   "metadata": {},
   "outputs": [],
   "source": [
    "draw(x, canvas, '#5770B3')"
   ]
  },
  {
   "cell_type": "code",
   "execution_count": null,
   "metadata": {},
   "outputs": [],
   "source": [
    "for _ in range(300):\n",
    "    x = life_step(x)\n",
    "    draw(x, canvas, '#5770B3')\n",
    "\n",
    "    await asyncio.sleep(0.1)"
   ]
  },
  {
   "cell_type": "markdown",
   "metadata": {},
   "source": [
    "<br><br><br><br><br><br><br><br><br><br><br><br><br><br><br><br><br><br><br><br><br><br><br><br><br><br><br><br><br><br><br><br><br><br><br><br>"
   ]
  },
  {
   "cell_type": "markdown",
   "metadata": {},
   "source": [
    "# JupyterLite Kernels\n",
    "\n",
    "| Language   | Name              |                                                                                                                                                                |\n",
    "|------------|-------------------|----------------------------------------------------------------------------------------------------------------------------------------------------------------|\n",
    "| Python     | Pyolite           | ![](https://jupyterlite.github.io/demo/kernelspecs/python.png)                                                                                                 |\n",
    "| SQL        | xeus-sqlite       | ![](https://jupyterlite.github.io/demo/extensions/@jupyterlite/xeus-sqlite-kernel/static/1d294d21c80c4bf4e239740688a0c5b9d5b34ce1d8bc7749901c022b22be74fb.png) |\n",
    "| Lua        | xeus-lua          | ![](https://jupyterlite.github.io/demo/extensions/@jupyterlite/xeus-lua-kernel/static/ef04946322537d832f3fad9e57f58276.png)                                    |\n",
    "| JavaScript | javascript-kernel | ![](https://jupyterlite.github.io/demo/kernelspecs/javascript.svg)                                                                                             |\n",
    "| p5.js      | p5-kernel         | ![](https://jupyterlite.github.io/demo/extensions/@jupyterlite/p5-kernel-extension/static/49bd0f07faea7cc6679aff248db41a5a.png)                                |\n",
    "| Wren       | xeus-wren         | ![](https://jupyterlite.github.io/demo/extensions/@jupyterlite/xeus-wren-kernel/static/814862bbbed93fb113fe365e92ce092bb9caaf2d8699dff76004ae353f3a4b1d.png)   |\n",
    "| Echo       | echo-kernel       | 🗣️                                                                                                                                                              |"
   ]
  },
  {
   "cell_type": "markdown",
   "metadata": {},
   "source": [
    "<br><br><br><br><br><br><br><br><br><br><br><br><br><br><br><br><br><br><br><br><br><br><br><br><br><br><br><br><br><br><br><br><br><br><br><br>"
   ]
  },
  {
   "cell_type": "markdown",
   "metadata": {},
   "source": [
    "# Working with files\n",
    "\n",
    "## ✳️ A deployment can provide a set of files and notebooks available by default \n",
    "## ✳️ Combine Offline Notebook storage in browser (`localStorage` or `IndexedDB`) with server files\n",
    "## ➡ JupyterLite mounts a **custom filesystem** under the `/drive` folder which gives **access to those files**"
   ]
  },
  {
   "cell_type": "code",
   "execution_count": null,
   "metadata": {},
   "outputs": [],
   "source": [
    "import os\n",
    "os.getcwd()"
   ]
  },
  {
   "cell_type": "code",
   "execution_count": null,
   "metadata": {},
   "outputs": [],
   "source": [
    "with open('test.txt', 'w') as fobj:\n",
    "    fobj.write('Hello! I write this from xeus-python')"
   ]
  },
  {
   "cell_type": "code",
   "execution_count": null,
   "metadata": {},
   "outputs": [],
   "source": [
    "with open('test.txt', 'r') as fobj:\n",
    "    print(fobj.read())"
   ]
  },
  {
   "cell_type": "code",
   "execution_count": null,
   "metadata": {},
   "outputs": [],
   "source": [
    "os.path.exists('test.txt')"
   ]
  },
  {
   "cell_type": "code",
   "execution_count": null,
   "metadata": {},
   "outputs": [],
   "source": [
    "import pandas"
   ]
  },
  {
   "cell_type": "code",
   "execution_count": null,
   "metadata": {},
   "outputs": [],
   "source": [
    "pandas.read_csv('data/2014_usa_states.csv')"
   ]
  },
  {
   "cell_type": "markdown",
   "metadata": {},
   "source": [
    "<br><br>"
   ]
  },
  {
   "cell_type": "markdown",
   "metadata": {},
   "source": [
    "## ✳️ Extensions like `jupyterlab-filesystem-access` for accessing user's local filesystem and `jupyterlab-github` for accessing files from a github repo"
   ]
  },
  {
   "cell_type": "markdown",
   "metadata": {},
   "source": [
    "<br><br><br><br><br><br><br><br><br><br><br><br><br><br><br><br><br><br><br><br><br><br><br><br><br><br><br><br><br><br><br><br><br><br><br><br>"
   ]
  },
  {
   "cell_type": "markdown",
   "metadata": {},
   "source": [
    "# Local File System Access\n",
    "\n",
    "## ✳️ Via the `jupyterlab-filesystem-access` extension\n",
    "\n",
    "### ⚠️ **Chromium-based browsers only (for now)** ⚠️\n",
    "\n",
    "Using the FileSystem Access Browser API: https://developer.mozilla.org/en-US/docs/Web/API/File_System_Access_API\n",
    "\n",
    "\n",
    "<p style=\"text-align: center\">\n",
    "    <img src=\"https://user-images.githubusercontent.com/591645/167575332-3bf31b15-09cf-4685-8cbb-3012236978fc.png\">\n",
    "    <video controls width=\"80%\" src=\"https://user-images.githubusercontent.com/591645/160241594-6b363b06-2103-445a-ac68-9ecc6104e0c4.mp4\">\n",
    "</p>"
   ]
  },
  {
   "cell_type": "markdown",
   "metadata": {},
   "source": [
    "<br><br><br><br><br><br><br><br><br><br><br><br><br><br><br><br><br><br><br><br><br><br><br><br><br><br><br><br><br><br><br><br><br><br><br><br>"
   ]
  },
  {
   "cell_type": "markdown",
   "metadata": {},
   "source": [
    "# Share Files Easily 📁\n",
    "\n",
    "<p style=\"text-align: center\">\n",
    "    <img src=\"https://user-images.githubusercontent.com/591645/139148148-ce1ecb0e-1f1b-4d4d-ad1d-3f7200b1e7cc.png\">\n",
    "</p>"
   ]
  },
  {
   "cell_type": "markdown",
   "metadata": {},
   "source": [
    "<br><br><br><br><br><br><br><br><br><br><br><br><br><br><br><br><br><br><br><br><br><br><br><br><br><br><br><br><br><br><br><br><br><br><br><br>"
   ]
  },
  {
   "cell_type": "markdown",
   "metadata": {},
   "source": [
    "# Real Time Collaboration via WebRTC 📡\n",
    "\n",
    "## PyData Global 2021 Presentation by Kevin Jahns: https://www.youtube.com/watch?v=QtoJsK8QYNk\n",
    "\n",
    "<p style=\"text-align: center\">\n",
    "    <img src=\"https://user-images.githubusercontent.com/591645/120653630-2b3a5300-c481-11eb-8c66-eeaa3674cbb1.gif\" width=\"100%\">\n",
    "</p>\n",
    "\n",
    "## Demo: https://jupyterlite.readthedocs.io/en/latest/_static/lab/?path=javascript.ipynb&room=pydata"
   ]
  },
  {
   "cell_type": "markdown",
   "metadata": {},
   "source": [
    "<br><br><br><br><br><br><br><br><br><br><br><br><br><br><br><br><br><br><br><br><br><br><br><br><br><br><br><br><br><br><br><br><br><br><br><br>"
   ]
  },
  {
   "cell_type": "markdown",
   "metadata": {},
   "source": [
    "# Offline Mode 💾\n",
    "\n",
    "## ✳️ Can be configured to be entirely self-hosted to not rely on any third-party services at run-time\n",
    "\n",
    "## ✳️ Can be shipped on a a USB stick and used offline with `python -m http.server`\n",
    "\n",
    "## ✳️ Documentation: https://jupyterlite.readthedocs.io/en/latest/configuring.html"
   ]
  },
  {
   "cell_type": "markdown",
   "metadata": {},
   "source": [
    "<br><br><br><br><br><br><br><br><br><br><br><br><br><br><br><br><br><br><br><br><br><br><br><br><br><br><br><br><br><br><br><br><br><br><br><br>"
   ]
  },
  {
   "cell_type": "markdown",
   "metadata": {},
   "source": [
    "# A Jupyter Server running in the browser\n",
    "\n",
    "- provides in-browser equivalents of much of \"normal\" JupyterLab Server\n",
    "- plugin-based Lumino application, _à la_ JupyterLab\n",
    "- customizable with pre-built _server extensions_\n",
    "  - new kernels\n",
    "  - different contents managers\n",
    "  - remote kernels\n",
    "\n",
    "<p style=\"text-align: center\">\n",
    "    <img src=\"https://user-images.githubusercontent.com/591645/162563632-0cabf224-0f6f-40bd-8696-63f2119ab788.png\">\n",
    "</p>"
   ]
  },
  {
   "cell_type": "markdown",
   "metadata": {},
   "source": [
    "<br><br><br><br><br><br><br><br><br><br><br><br><br><br><br><br><br><br><br><br><br><br><br><br><br><br><br><br><br><br><br><br><br><br><br><br>"
   ]
  },
  {
   "cell_type": "markdown",
   "metadata": {},
   "source": [
    "# Jupyter Everywhere 🌐\n",
    "\n",
    "![jupyter-everywhere](https://user-images.githubusercontent.com/591645/162568867-343ecd3b-1344-4353-a885-73a78f79fd13.jpg)"
   ]
  },
  {
   "cell_type": "markdown",
   "metadata": {},
   "source": [
    "<br><br><br><br><br><br><br><br><br><br><br><br><br><br><br><br><br><br><br><br><br><br><br><br><br><br><br><br><br><br><br><br><br><br><br><br>"
   ]
  },
  {
   "cell_type": "markdown",
   "metadata": {},
   "source": [
    "# Education\n",
    "\n",
    "## ✳️ Introduction to Programming, Data Science\n",
    "## ✳️ Workshops"
   ]
  },
  {
   "cell_type": "markdown",
   "metadata": {},
   "source": [
    "<br><br><br><br><br><br><br><br><br><br><br><br><br><br><br><br><br><br><br><br><br><br><br><br><br><br><br><br><br><br><br><br><br><br><br><br>"
   ]
  },
  {
   "cell_type": "markdown",
   "metadata": {},
   "source": [
    "## Embed a live Python console on your website 🚀\n",
    "\n",
    "Blog post: https://blog.jupyter.org/jupyter-everywhere-f8151c2cc6e8\n",
    "\n",
    "### The REPL Application\n",
    "\n",
    "![image](https://user-images.githubusercontent.com/591645/162570397-417cd87f-cc82-44aa-bc84-feff9cb4c530.png)\n",
    "\n",
    "### Embed with:\n",
    "\n",
    "```html\n",
    "<iframe\n",
    "  src=\"https://jupyterlite.github.io/demo/repl/index.html?kernel=python&toolbar=1\"\n",
    "  width=\"100%\"\n",
    "  height=\"500px\"\n",
    ">\n",
    "</iframe>\n",
    "```\n",
    "\n",
    "### And 🎉\n",
    "\n",
    "![image](https://user-images.githubusercontent.com/591645/162619390-ecab994a-3f39-4e26-af78-ca2569aee9b2.png)\n",
    "\n",
    "### Example\n",
    "\n",
    "https://jtp.io/2022/02/22/jupyterlite-repl.html"
   ]
  },
  {
   "cell_type": "markdown",
   "metadata": {},
   "source": [
    "<br><br><br><br><br><br><br><br><br><br><br><br><br><br><br><br><br><br><br><br><br><br><br><br><br><br><br><br><br><br><br><br><br><br><br><br>"
   ]
  },
  {
   "cell_type": "markdown",
   "metadata": {},
   "source": [
    "https://news.ycombinator.com/item?id=32627951&fbclid=IwAR1aFE2t1rmsgb8ULz00tPm41Ixy2_3Zw1WEQqAT5rjcJJu0tfslSix50Ro### [numpy.org](https://numpy.org)\n",
    "\n",
    "![image](https://user-images.githubusercontent.com/591645/162569443-40e841ad-f42d-44eb-966f-c1c810c1ab10.png)\n",
    "\n",
    "### [pandas.pydata.org/](https://pandas.pydata.org/getting_started.html)\n",
    "\n",
    "![image]()\n",
    "\n",
    "## [try.jupyter.org](https://try.jupyter.org)\n",
    "\n",
    "![image](https://user-images.githubusercontent.com/591645/162569510-56287b4b-acf2-47f9-90af-7b0605c5b112.png)\n",
    "\n",
    "#### ✳️ Help reduce the load on [mybinder.org](https://mybinder.org)\n",
    "#### ✳️ Huge savings: trade compute resources (1 GB / 1 CPU) for static assets\n",
    "\n",
    "![image](https://user-images.githubusercontent.com/591645/162619537-b3fce1ee-9929-4b03-aa1f-acd8e0c2eb72.png)\n",
    "\n",
    "### [sympy.org](https://sympy.org)\n",
    "\n",
    "![image](https://user-images.githubusercontent.com/591645/167361691-da1252e7-17f4-4bbf-8eee-ba3bfaff8c2e.png)\n",
    "\n",
    "## [jupyterlite-sphinx](https://jupyterlite-sphinx.readthedocs.io/en/latest/)\n",
    "\n",
    "### https://ipycanvas.readthedocs.io/en/master/\n",
    "\n",
    "![image](https://user-images.githubusercontent.com/591645/162572578-a3ee770b-d622-4e18-a7c0-71d98627309f.png)\n",
    "\n",
    "## More\n",
    "\n",
    "#### ✳️ More documentation websites"
   ]
  },
  {
   "cell_type": "markdown",
   "metadata": {},
   "source": [
    "<br><br><br><br><br><br><br><br><br><br><br><br><br><br><br><br><br><br><br><br><br><br><br><br><br><br><br><br><br><br><br><br><br><br><br><br>"
   ]
  },
  {
   "cell_type": "markdown",
   "metadata": {},
   "source": [
    "# EmscriptenForge"
   ]
  },
  {
   "cell_type": "markdown",
   "metadata": {
    "tags": []
   },
   "source": [
    "# WorldWideWeb:"
   ]
  },
  {
   "cell_type": "markdown",
   "metadata": {
    "tags": []
   },
   "source": [
    ">\n",
    "**Html**:\n",
    "```html       \n",
    "<html>\n",
    "  <body>\n",
    "    <h1>Hello World<h1>\n",
    "  </body>\n",
    "</html>\n",
    "```"
   ]
  },
  {
   "cell_type": "markdown",
   "metadata": {
    "tags": []
   },
   "source": [
    "**css**:\n",
    "```css\n",
    "p {\n",
    "  color: red;\n",
    "  text-align: center;\n",
    "} \n",
    "```"
   ]
  },
  {
   "cell_type": "markdown",
   "metadata": {
    "tags": []
   },
   "source": [
    "**JavaScript**:\n",
    "```javascript\n",
    " document.write('Hello, World!');\n",
    "```"
   ]
  },
  {
   "cell_type": "markdown",
   "metadata": {
    "tags": []
   },
   "source": [
    "**WebAssembly**:\n",
    "```\n",
    "(module\n",
    "  (func $add (param $lhs i32) (param $rhs i32) (result i32)\n",
    "    local.get $lhs\n",
    "    local.get $rhs\n",
    "    i32.add)\n",
    "  (export \"add\" (func $add))\n",
    ")\n",
    "```"
   ]
  },
  {
   "cell_type": "markdown",
   "metadata": {},
   "source": [
    "<br><br><br><br><br><br><br><br><br><br><br><br><br><br><br><br><br><br><br><br><br><br><br><br><br><br><br><br><br><br><br><br><br><br><br><br>"
   ]
  },
  {
   "cell_type": "markdown",
   "metadata": {
    "tags": []
   },
   "source": [
    "## WebAssembly\n",
    " * Static Typed\n",
    " * Fast\n",
    " * Secure / sandboxed\n",
    " * Wasm as compilation target for C, C++, Rust, Fortran, Go ...\n"
   ]
  },
  {
   "cell_type": "markdown",
   "metadata": {},
   "source": [
    "<br><br><br><br><br><br><br><br><br><br><br><br><br><br><br><br><br><br><br><br><br><br><br><br><br><br><br><br><br><br><br><br><br><br><br><br>"
   ]
  },
  {
   "cell_type": "markdown",
   "metadata": {
    "tags": []
   },
   "source": [
    "## Compile Exisiting Code to Wasm"
   ]
  },
  {
   "cell_type": "markdown",
   "metadata": {
    "tags": []
   },
   "source": [
    "### Doom"
   ]
  },
  {
   "cell_type": "code",
   "execution_count": null,
   "metadata": {},
   "outputs": [],
   "source": [
    "from IPython.display import IFrame\n",
    "IFrame('https://silentspacemarine.com/', 600, 500)"
   ]
  },
  {
   "cell_type": "markdown",
   "metadata": {},
   "source": [
    "<br><br><br><br><br><br><br><br><br><br><br><br><br><br><br><br><br><br><br><br><br><br><br><br><br><br><br><br><br><br><br><br><br><br><br><br>"
   ]
  },
  {
   "cell_type": "markdown",
   "metadata": {
    "tags": []
   },
   "source": [
    "### Python"
   ]
  },
  {
   "cell_type": "code",
   "execution_count": null,
   "metadata": {},
   "outputs": [],
   "source": [
    "import sys\n",
    "print(\"Hello world from\", sys.platform)"
   ]
  },
  {
   "cell_type": "markdown",
   "metadata": {},
   "source": [
    "<br><br><br><br><br><br><br><br><br><br><br><br><br><br><br><br><br><br><br><br><br><br><br><br><br><br><br><br><br><br><br><br><br><br><br><br>"
   ]
  },
  {
   "cell_type": "markdown",
   "metadata": {
    "tags": []
   },
   "source": [
    "### Python - Packages"
   ]
  },
  {
   "cell_type": "markdown",
   "metadata": {},
   "source": [
    "**Just** python is usualy not enough. Typically Python users want some packages:\n",
    "* pure python packages of course work out of the box\n",
    "* packages with C/C++/fortan extensions need to be compiled **for wasm**"
   ]
  },
  {
   "cell_type": "code",
   "execution_count": null,
   "metadata": {},
   "outputs": [],
   "source": [
    "import numpy"
   ]
  },
  {
   "cell_type": "markdown",
   "metadata": {},
   "source": [
    "<br><br><br><br><br><br><br><br><br><br><br><br><br><br><br><br><br><br><br><br><br><br><br><br><br><br><br><br><br><br><br><br><br><br><br><br>"
   ]
  },
  {
   "cell_type": "markdown",
   "metadata": {},
   "source": [
    "## Package Distribution"
   ]
  },
  {
   "cell_type": "markdown",
   "metadata": {},
   "source": [
    "### Pyodide\n",
    "\n",
    "* Pyodide is a Python distribution for the browser and Node.js based on WebAssembly.\n",
    "* Javascript ⟺ Python foreign function interface \n",
    "* Odd build system \n",
    "* Pip packages are installed at runtime\n",
    "\n",
    "```python\n",
    "import micropip\n",
    "await micropip.install('regex') \n",
    "```\n"
   ]
  },
  {
   "cell_type": "markdown",
   "metadata": {},
   "source": [
    "<br><br><br><br><br><br><br><br><br><br><br><br><br><br><br><br><br><br><br><br><br><br><br><br><br><br><br><br><br><br><br><br><br><br><br><br>"
   ]
  },
  {
   "cell_type": "markdown",
   "metadata": {},
   "source": [
    "### Conda-Forge\n",
    "\n",
    "* community driven\n",
    "* standard source of packages for scientific computing\n",
    "* 19.1k packages\n",
    "\n",
    "The Mamba/Conda package manager supports many platforms:\n",
    "* Linux\n",
    "* OS X:\n",
    "   * x86\n",
    "   * arm64\n",
    "* Windows \n",
    "\n",
    "However, the WebAssembly family of platforms is not supported yet."
   ]
  },
  {
   "cell_type": "markdown",
   "metadata": {},
   "source": [
    "<br><br><br><br><br><br><br><br><br><br><br><br><br><br><br><br><br><br><br><br><br><br><br><br><br><br><br><br><br><br><br><br><br><br><br><br>"
   ]
  },
  {
   "cell_type": "markdown",
   "metadata": {},
   "source": [
    "# Emscripten-Forge\n",
    "\n",
    "* added `emscripten-32` as plattform to cinda\n",
    "* cross compilation with [crossenv](https://crossenv.readthedocs.io/en/latest/) (a Virtual Environments for Cross-Compiling Python Extension Modules)\n",
    "* [beta.mamba.pm](https://beta.mamba.pm/channels/emscripten-forge?tab=packages)"
   ]
  },
  {
   "cell_type": "code",
   "execution_count": null,
   "metadata": {},
   "outputs": [],
   "source": [
    "from IPython.display import IFrame\n",
    "IFrame('https://beta.mamba.pm/channels/emscripten-forge?tab=packages', 800, 500)"
   ]
  },
  {
   "cell_type": "markdown",
   "metadata": {},
   "source": [
    "* We plan on contributing this work to the conda-forge project, so that all recipes live in the same space.\n",
    "* Add more packages"
   ]
  },
  {
   "cell_type": "markdown",
   "metadata": {},
   "source": [
    "<br><br><br><br><br><br><br><br><br><br><br><br><br><br><br><br><br><br><br><br><br><br><br><br><br><br><br><br><br><br><br><br><br><br><br><br>"
   ]
  },
  {
   "cell_type": "markdown",
   "metadata": {
    "tags": []
   },
   "source": [
    "## Usage"
   ]
  },
  {
   "cell_type": "markdown",
   "metadata": {
    "tags": []
   },
   "source": [
    "###  Specify packages\n",
    "Specify desired packages in a `*.yaml` file\n",
    "\n",
    "``` yaml\n",
    "name: wasm-env\n",
    "channels:\n",
    "  - https://repo.mamba.pm/emscripten-forge   # <- for compiled packages\n",
    "  - conda-forge                              # <- for pure pythnon packages\n",
    "dependencies:\n",
    "  - numpy\n",
    "  - pandas\n",
    "  - scipy\n",
    "  - matplotlib\n",
    "  - jedi\n",
    "```"
   ]
  },
  {
   "cell_type": "markdown",
   "metadata": {},
   "source": [
    "<br><br><br><br><br><br><br><br><br><br><br><br><br><br><br><br><br><br><br><br><br><br><br><br><br><br><br><br><br><br><br><br><br><br><br><br>"
   ]
  },
  {
   "cell_type": "markdown",
   "metadata": {
    "tags": []
   },
   "source": [
    "### Create the environment\n",
    "\n",
    "Create the env with `micromamba` /`mamba`/ `conda`\n",
    "```\n",
    "micromamba create --file  wasm-env.yaml --platform=emscripten-32 \n",
    " ```"
   ]
  },
  {
   "cell_type": "markdown",
   "metadata": {},
   "source": [
    "<br><br><br><br><br><br><br><br><br><br><br><br><br><br><br><br><br><br><br><br><br><br><br><br><br><br><br><br><br><br><br><br><br><br><br><br>"
   ]
  },
  {
   "cell_type": "markdown",
   "metadata": {},
   "source": [
    "### Bundle / package enviroment as JavaScript package\n",
    "\n",
    "```\n",
    "empack pack env --env-prefix  /mamba/envs/wasm-env  ...\n",
    "```\n",
    "\n",
    "This yields `*.js` files and datablobs `*.data` which essentialy make the enviroment usable from JavaScript"
   ]
  },
  {
   "cell_type": "markdown",
   "metadata": {
    "tags": []
   },
   "source": [
    "## Demo\n"
   ]
  },
  {
   "cell_type": "markdown",
   "metadata": {
    "tags": []
   },
   "source": [
    "### REPL\n",
    "\n",
    "</div>\n",
    "<div class=\"alert alert-block alert-warning\">\n",
    "<b>Try it out:</b> \n",
    "<a href=https://emscripten-forge.github.io/sample-python-repl/>emscripten-forge.github.io/sample-python-repl/</a>\n",
    "</div>\n",
    "\n",
    "</div>\n",
    "<div class=\"alert alert-block alert-info\">\n",
    "<b>Github template repository:</b> \n",
    "<a href=https://github.com/emscripten-forge/sample-python-repl>github.com/emscripten-forge/sample-python-repl</a>\n",
    "</div>\n",
    "\n",
    "\n",
    "``` yaml\n",
    "\n",
    "name: pyjs-web-env\n",
    "channels:\n",
    "  - https://repo.mamba.pm/emscripten-forge\n",
    "  - conda-forge\n",
    "dependencies:\n",
    "  - pyjs == 0.11.2\n",
    "  - numpy\n",
    "```\n"
   ]
  },
  {
   "cell_type": "markdown",
   "metadata": {},
   "source": [
    "<br><br><br><br><br><br><br><br><br><br><br><br><br><br><br><br><br><br><br><br><br><br><br><br><br><br><br><br><br><br><br><br><br><br><br><br>"
   ]
  },
  {
   "cell_type": "code",
   "execution_count": null,
   "metadata": {},
   "outputs": [],
   "source": [
    "from IPython.display import IFrame\n",
    "IFrame('https://emscripten-forge.github.io/sample-python-repl/', 800, 900)"
   ]
  },
  {
   "cell_type": "markdown",
   "metadata": {},
   "source": [
    "<div class=\"alert alert-block alert-info\">\n",
    "<b>Github Template Repository:</b> \n",
    "    https://emscripten-forge.github.io/sample-python-repl/\n",
    "</div>\n",
    "\n",
    "</div>\n",
    "<div class=\"alert alert-block alert-warning\">\n",
    "<b>Try it out:</b> \n",
    "<a href=https://derthorsten.github.io/pyb2d-wasm-demo/#>derthorsten.github.io/pyb2d-wasm-demo/</a>\n",
    "</div>"
   ]
  },
  {
   "cell_type": "markdown",
   "metadata": {},
   "source": [
    "<br><br><br><br><br><br><br><br><br><br><br><br><br><br><br><br><br><br><br><br><br><br><br><br><br><br><br><br><br><br><br><br><br><br><br><br>"
   ]
  },
  {
   "cell_type": "markdown",
   "metadata": {},
   "source": [
    "<div class=\"alert alert-block alert-info\">\n",
    "<b>Github Repository:</b> \n",
    "    https://github.com/DerThorsten/pyb2d-wasm-demo/\n",
    "</div>\n",
    "\n",
    "</div>\n",
    "<div class=\"alert alert-block alert-warning\">\n",
    "<b>Try it out:</b> \n",
    "<a href=https://derthorsten.github.io/pyb2d-wasm-demo/#>derthorsten.github.io/pyb2d-wasm-demo/#</a>\n",
    "</div>"
   ]
  },
  {
   "cell_type": "code",
   "execution_count": null,
   "metadata": {},
   "outputs": [],
   "source": [
    "## Demo\n",
    "from IPython.display import IFrame\n",
    "IFrame('https://derthorsten.github.io/pyb2d-wasm-demo/#', 800, 600)"
   ]
  },
  {
   "cell_type": "markdown",
   "metadata": {},
   "source": [
    "<br><br><br><br><br><br><br><br><br><br><br><br><br><br><br><br><br><br><br><br><br><br><br><br><br><br><br><br><br><br><br><br><br><br><br><br>"
   ]
  },
  {
   "cell_type": "markdown",
   "metadata": {
    "tags": []
   },
   "source": [
    "# Limitations\n",
    "\n",
    "## ❇️ Suited for lighter workloads\n",
    "\n",
    "## ❇️ Initial asset download can be big (~30MB), then cached by the browser"
   ]
  },
  {
   "cell_type": "markdown",
   "metadata": {},
   "source": [
    "<br><br><br><br><br><br><br><br><br><br><br><br><br><br><br><br><br><br><br><br><br><br><br><br><br><br><br><br><br><br><br><br><br><br><br><br>"
   ]
  },
  {
   "cell_type": "markdown",
   "metadata": {},
   "source": [
    "# Up Next 🔭\n",
    "\n",
    "## ✳️ Update to JupyterLab 4.0 and Notebook v7 (currently still in alpha)\n",
    "\n",
    "## ✳️ Better code completion with in-browser LSP (Language Server Protocol)\n",
    "\n",
    "## ✳️ Emscripten-forge: integrating emscripten-forge to conda-forge"
   ]
  },
  {
   "cell_type": "markdown",
   "metadata": {},
   "source": [
    "<br><br><br><br><br><br><br><br><br><br><br><br><br><br><br><br><br><br><br><br><br><br><br><br><br><br><br><br><br><br><br><br><br><br><br><br>"
   ]
  },
  {
   "cell_type": "markdown",
   "metadata": {
    "tags": []
   },
   "source": [
    "# Thanks!\n",
    "\n",
    "## Special thanks to all the contributors ❤️\n",
    "\n",
    "<a href=\"https://github.com/jupyterlite/jupyterlite/graphs/contributors\">\n",
    "  <img src=\"https://contrib.rocks/image?repo=jupyterlite/jupyterlite\" />\n",
    "</a>\n"
   ]
  },
  {
   "cell_type": "markdown",
   "metadata": {},
   "source": [
    "<br><br><br><br><br><br><br><br><br><br><br><br><br><br><br><br><br><br><br><br><br><br><br><br><br><br><br><br><br><br><br><br><br><br><br><br>"
   ]
  }
 ],
 "metadata": {
  "interpreter": {
   "hash": "b297c9f053451c40d9c75031adac3a86ec5d2b3afb3b47bf0229dc17014684ea"
  },
  "kernelspec": {
   "display_name": "Python 3 (ipykernel)",
   "language": "python",
   "name": "python3"
  },
  "language_info": {
   "codemirror_mode": {
    "name": "ipython",
    "version": 3
   },
   "file_extension": ".py",
   "mimetype": "text/x-python",
   "name": "python",
   "nbconvert_exporter": "python",
   "pygments_lexer": "ipython3",
   "version": "3.10.4"
  },
  "toc-showcode": false
 },
 "nbformat": 4,
 "nbformat_minor": 4
}
